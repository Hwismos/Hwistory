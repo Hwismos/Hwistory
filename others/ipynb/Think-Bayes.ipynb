{
 "cells": [
  {
   "cell_type": "markdown",
   "metadata": {},
   "source": [
    "# CHAPTER 1\n"
   ]
  },
  {
   "cell_type": "code",
   "execution_count": null,
   "metadata": {},
   "outputs": [],
   "source": [
    "import pandas as pd\n",
    "\n",
    "gss = pd.read_csv(\"./data/gss_bayes.csv\", index_col=0)\n",
    "# gss.head()\n",
    "# gss.value_counts()"
   ]
  },
  {
   "cell_type": "code",
   "execution_count": null,
   "metadata": {},
   "outputs": [],
   "source": [
    "banker = (gss['indus10'] == 6870)\n",
    "female = (gss['sex'] == 2)\n",
    "male = (gss['sex'] == 1)\n",
    "liberal = (gss[\"polviews\"] <= 3)\n",
    "democrat = (gss['partyid'] <= 1)\n",
    "selected = democrat[liberal]\n",
    "selected2 = female[banker]"
   ]
  },
  {
   "cell_type": "code",
   "execution_count": null,
   "metadata": {},
   "outputs": [],
   "source": [
    "def prob(sr):\n",
    "    return sr.mean()\n",
    "\n",
    "\n",
    "def conditional(proposition, given):\n",
    "    return prob(proposition[given])"
   ]
  },
  {
   "cell_type": "code",
   "execution_count": null,
   "metadata": {},
   "outputs": [],
   "source": [
    "def print_results():\n",
    "    print(f\"응답자 중 은행원의 비율: {prob(banker)*100:.2f}%\")\n",
    "    print(f\"응답자 중 진보 성향의 비율: {prob(liberal)*100:.2f}%\")\n",
    "    print(f\"응답자 중 민주당원의 비율: {prob(democrat)*100:.2f}%\")\n",
    "    \n",
    "    print(f\"{'-'*50}\")\n",
    "    \n",
    "    print(f\"응답자가 은행원이며 민주당원일 확률: {prob(banker & democrat)*100:.2f}%\")\n",
    "    print(f\"응답자가 진보 성향일 때 민주당원일 확률: {conditional(proposition=democrat, given=liberal)*100:.2f}%\")\n",
    "    print(f\"응답자가 은행원일 때 여자일 확률: {conditional(proposition=female, given=banker)*100:.2f}%\")\n",
    "    print(f\"응답자가 여성일 때 진보 성향일 확률: {conditional(proposition=liberal, given=female)*100:.2f}%\")\n",
    "    print(f\"응답자가 진보 성향의 민주당원일 때 여성일 확률: {conditional(proposition=female, given=liberal & democrat)*100:.2f}%\")\n",
    "    print(f\"응답자가 은행원일 때 진보 성향의 여성일 확률: {conditional(proposition=female & liberal, given=banker)*100:.2f}%\")\n",
    "    \n",
    "    print(f\"{'-'*50}\")\n",
    "    \n",
    "    # 논리곱을 사용한 조건부확률 계산\n",
    "    print(f\"응답자가 은행원일 때 여자일 확률을 조건부확률로 계산: {prob(female & banker)/prob(banker)*100:.2f}%\")\n",
    "    # 조건부확률을 사용한 논리곱 계산\n",
    "    print(f\"응답자가 진보 성향이며 민주정당일 확률에 대한 논리곱 계산({prob(liberal & democrat)*100:.2f}%)과 조건부확률 계산({prob(democrat) * conditional(proposition=liberal, given=democrat)*100:.2f}%)\")\n",
    "\n",
    "    print(f\"{'-'*50}\")\n",
    "\n",
    "    # 베이즈 정리\n",
    "    print(f\"응답자가 은행원일 때 진보 성향일 확률을 조건부확률로 계산: {conditional(liberal, banker)*100:.2f}%\")\n",
    "    print(f\"응답자가 은행원일 때 진보 성향일 확률을 베이즈 정리로 계산: {prob(liberal) * conditional(banker, liberal) / prob(banker)*100:.2f}%\")\n",
    "\n",
    "    print(f\"{'-'*50}\")\n",
    "    \n",
    "    # 전체 확률\n",
    "    print(f\"응답자 중 은행원의 비율: {prob(banker)*100:.2f}%\")\n",
    "    print(f\"전체확률: {(prob(male & banker) + prob(female & banker)) * 100 :.2f}%\")\n",
    "    print(f\"논리곱을 이용: {(prob(male) * conditional(banker, male) + prob(female) * conditional(banker, female)) * 100 :.2f}%\")\n",
    "\n",
    "    B = gss[\"polviews\"]\n",
    "    print(f\"중도 성향의 은행원의 확률: {(sum(prob(B==i) * conditional(banker, B==i) for i in range(1, 8))) * 100 :.2f}%\")\n",
    "\n",
    "print_results()"
   ]
  },
  {
   "cell_type": "markdown",
   "metadata": {},
   "source": [
    "# CHAPTER 2"
   ]
  },
  {
   "cell_type": "code",
   "execution_count": null,
   "metadata": {},
   "outputs": [],
   "source": []
  }
 ],
 "metadata": {
  "kernelspec": {
   "display_name": "240506-torch",
   "language": "python",
   "name": "python3"
  },
  "language_info": {
   "codemirror_mode": {
    "name": "ipython",
    "version": 3
   },
   "file_extension": ".py",
   "mimetype": "text/x-python",
   "name": "python",
   "nbconvert_exporter": "python",
   "pygments_lexer": "ipython3",
   "version": "3.10.14"
  }
 },
 "nbformat": 4,
 "nbformat_minor": 2
}
